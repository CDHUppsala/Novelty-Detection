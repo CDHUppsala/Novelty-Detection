{
 "cells": [
  {
   "cell_type": "markdown",
   "metadata": {},
   "source": [
    "# Patent Impact Calculation according to Kelly et al. (2021)"
   ]
  },
  {
   "cell_type": "markdown",
   "metadata": {},
   "source": [
    "- **Novel** patents are distinct from their predecessors\n",
    "\n",
    "- **Impactful** patents influence future scientific advances, manifested as high similarity with subsequent innovations/patents\n",
    "\n",
    "- An **important** patent is both novel **and** impactful\n",
    "\n",
    "-> An **important** patent is **dissimilar** to previous patents and **similar** to future patents"
   ]
  },
  {
   "cell_type": "markdown",
   "metadata": {},
   "source": [
    "### Novelty: \n",
    "\n",
    "Novel patents should be distinct from earlier patents, i.e., a patent is novel if its similarity to prior patents is low. The authors suggest to measure novelty by calculating the Backward Similarity (BS), which is the cumulative similarity between a focal patent $p$ and all patents filed $5$ years prior to $p$. \n",
    "A novel patent should have a low BS score, as it is dissimilar to previous patents. \n",
    "\n",
    "Kelly et al. calculate the BS the following:\n",
    "$$\n",
    "BS_{j}^{\\tau} = \\sum_{i \\in \\mathcal{B}_{j, \\tau}} p_{j, i}\n",
    "$$\n",
    "where $\\mathcal{B}{j, \\tau}$ denotes a set of prior patents filed $\\tau = 5$ years before patent $j$."
   ]
  },
  {
   "cell_type": "markdown",
   "metadata": {},
   "source": [
    "### Impact\n",
    "\n",
    "Impactful patents should be similar to future patents, i.e., a patent is impactful if its similarity to future patents is high. This is calculated as the Forward Simiarlity (FS), which is the cumulative similarity between a focal patent $p$ and all patents filed $10$ years after $p$.\n",
    "\n",
    "FS is calculated the following:\n",
    "\n",
    "$$\n",
    "FS_{j}^{\\tau} = \\sum_{i \\in \\mathcal{F}_{j, \\tau}} p_{j, i}\n",
    "$$\n",
    "\n",
    "where $\\mathcal{F}{j, \\tau}$ denotes the set of patents filed $\\tau = 10$ years after patent $j$. "
   ]
  },
  {
   "cell_type": "markdown",
   "metadata": {},
   "source": [
    "### Importance\n",
    "An important patent should be novel and impactful, i.e., the BS score should be low and the FS score should be high. This can be expressed by taking the ratio between BS and FS:\n",
    "\n",
    "$$\n",
    "q_{j}^{\\tau} = \\frac{FS_{j}^{\\tau}}{BS_{j}^{\\tau}}\n",
    "$$\n",
    "\n",
    "The value will be high if BS is low and FS is high."
   ]
  },
  {
   "cell_type": "markdown",
   "metadata": {},
   "source": [
    "**And here is the issue**: \n",
    "\n",
    "The number of patents in the sets $\\mathcal{B}_{j, \\tau}$ and $\\mathcal{F}_{j, \\tau}$ varies for each patent. For a patent $p$ the number of patents in $\\mathcal{B}{j, \\tau}$ or $\\mathcal{F}_{j, \\tau}$ may be high, which leads to a high BS or FS (or vice versa), even though each individual similarity between $p$ and all other patents in these sets is low. Therefore, the number of patents in each set heavily influences the BS and FS scores, which in return determines the importance score. On the other hand, the actual individual similarity scores used to calculate FS and BS do not influence the importance scores as they are supposed to. \n",
    "\n",
    "See the below [figure](#num_patents_per_year): A patent from 1900 will have a lower BS than a patent from 1915, just because there are less patents available in the $5$ years before 1900 compared to the $5$ years before 1915. \n",
    "A patent from 1900 will have a high importance score as the number of previous patents is low (results in low BS) relatively to the number of patents after 1900 (results in larger FS)."
   ]
  },
  {
   "cell_type": "markdown",
   "metadata": {},
   "source": [
    "<a name=\"num_patents_per_year\"></a>\n",
    "![num_patents_per_year](plots/num_patents_per_year.png)"
   ]
  },
  {
   "cell_type": "markdown",
   "metadata": {},
   "source": [
    "### Solution:\n",
    "\n",
    "An easy way to prevent this from happening, is to normalize the FS and BS scores by the length of the sets $\\mathcal{B}_{j, \\tau}$ and $\\mathcal{F}_{j, \\tau}$, i.e., the number of patents $\\tau = 5$ years before and $\\tau = 10$ years after the focal patent. This corresponds to taking the average. The resulting formulas are the following:\n",
    "\n",
    "\n",
    "$$\n",
    "BS_{j}^{\\tau} = \\frac{1}{| \\mathcal{B}_{j, \\tau} |} \\cdot \\sum_{i \\in \\mathcal{B}_{j, \\tau}} p_{j, i}\n",
    "$$\n",
    "\n",
    "and\n",
    "\n",
    "$$\n",
    "FS_{j}^{\\tau} = \\frac{1}{| \\mathcal{F}_{j, \\tau} |} \\cdot \\sum_{i \\in \\mathcal{F}_{j, \\tau}} p_{j, i}\n",
    "$$\n",
    "\n",
    "That way, the importance scores between patents are comparable and the actual similarity scores between patents influence the importance value of a patent. "
   ]
  },
  {
   "cell_type": "markdown",
   "metadata": {},
   "source": [
    "### Patent Similarity\n",
    "The patent similarity is calculated based on the TFIBDF score. \n",
    "for a patent $p$ and a term $w$, the TFBIDF score is calculated the following:\n",
    "$$\n",
    "    TFBIDF_{w, p} = TF_{w, p} \\cdot BIDF_{w}\n",
    "$$\n",
    "where \n",
    "$$\n",
    "    TF_{w, p} = \\frac{c_{p,w}}{\\sum_{k}{}c_{p,k}}\n",
    "$$\n",
    "and\n",
    "$$\n",
    "    BIDF_{w, p} = \\log \\left( \\frac{\\# \\text{ patents prior to } p}{1 + \\# \\text{ documents prior to } p \\text{ that include term } w} \\right)\n",
    "$$"
   ]
  },
  {
   "cell_type": "markdown",
   "metadata": {},
   "source": [
    "To calculate the similarity $p_{i, j}$ between patent $i$ and $j$, create two vectors $V_i$ and $V_j$ with the size of the union of terms in patents $i$ and $j$. In this vectors, store the TFBIDF scores for each term $w$ in $i$ and $j$ respectively. Finally, normalize the vectors and calculate the cosine similarity between the two vectors. \n",
    "\n",
    "$$\n",
    "    p_{i, j} = V_{i} \\cdot V_{j}\n",
    "$$"
   ]
  },
  {
   "cell_type": "markdown",
   "metadata": {},
   "source": [
    "# Code demonstration"
   ]
  },
  {
   "cell_type": "code",
   "execution_count": 1,
   "metadata": {},
   "outputs": [
    {
     "name": "stdout",
     "output_type": "stream",
     "text": [
      "generating patent mapping\n",
      "Expecting value: line 1 column 1 (char 0)\n",
      "Expecting value: line 1 column 1 (char 0)\n",
      "Expecting value: line 1 column 1 (char 0)\n",
      "Expecting value: line 1 column 1 (char 0)\n",
      "Expecting value: line 1 column 1 (char 0)\n",
      "Expecting value: line 1 column 1 (char 0)\n",
      "Expecting value: line 1 column 1 (char 0)\n",
      "Expecting value: line 1 column 1 (char 0)\n",
      "generating term count dictionary\n",
      "generating tf mapping\n",
      "generating sorted patent list\n"
     ]
    }
   ],
   "source": [
    "from tfbidf_optimized import *"
   ]
  },
  {
   "cell_type": "markdown",
   "metadata": {},
   "source": [
    "### Pre-Computations"
   ]
  },
  {
   "cell_type": "markdown",
   "metadata": {},
   "source": [
    "**generate_json** creates a mapping between a patent id and metainformation like its grant date, filepath, but also stores the preprocessed text of the patent"
   ]
  },
  {
   "cell_type": "code",
   "execution_count": 6,
   "metadata": {},
   "outputs": [
    {
     "name": "stdout",
     "output_type": "stream",
     "text": [
      "Expecting value: line 1 column 1 (char 0)\n",
      "Expecting value: line 1 column 1 (char 0)\n",
      "Expecting value: line 1 column 1 (char 0)\n",
      "Expecting value: line 1 column 1 (char 0)\n",
      "Expecting value: line 1 column 1 (char 0)\n",
      "Expecting value: line 1 column 1 (char 0)\n",
      "Expecting value: line 1 column 1 (char 0)\n",
      "Expecting value: line 1 column 1 (char 0)\n"
     ]
    }
   ],
   "source": [
    "textfolder_path = \"../data_preprocessed/\"\n",
    "jsonfolder_path = \"../json/\"\n",
    "PATENT_MAPPING = generate_json(textfolder_path, jsonfolder_path, start_year=1885, end_year=1900)"
   ]
  },
  {
   "cell_type": "code",
   "execution_count": 9,
   "metadata": {},
   "outputs": [
    {
     "data": {
      "text/plain": [
       "datetime.datetime(1887, 8, 19, 0, 0)"
      ]
     },
     "execution_count": 9,
     "metadata": {},
     "output_type": "execute_result"
    }
   ],
   "source": [
    "PATENT_MAPPING[\"1000\"][\"date\"]"
   ]
  },
  {
   "cell_type": "code",
   "execution_count": 10,
   "metadata": {},
   "outputs": [
    {
     "data": {
      "text/plain": [
       "['patent',\n",
       " 'beskrifning',\n",
       " 'offentliggjord',\n",
       " 'ap',\n",
       " 'kongl',\n",
       " 'patentbyrån',\n",
       " 'caspersson',\n",
       " 'forsbacka',\n",
       " 'margretehill',\n",
       " 'sätt',\n",
       " 'tillverkning',\n",
       " 'af',\n",
       " 'jer',\n",
       " 'stål',\n",
       " 'bessemer',\n",
       " 'metod',\n",
       " 'gjuta',\n",
       " 'metall',\n",
       " 'direkt',\n",
       " 'ugn',\n",
       " 'uti',\n",
       " 'formarne',\n",
       " 'jemte',\n",
       " 'härför',\n",
       " 'afsedd',\n",
       " 'gjutskänk',\n",
       " 'patent',\n",
       " 'Sverige',\n",
       " 'maj',\n",
       " 'fråga',\n",
       " 'varande',\n",
       " 'gjutningsmetod',\n",
       " 'af',\n",
       " 'sedd',\n",
       " 'apparat',\n",
       " 'benämna',\n",
       " 'konverterskänk',\n",
       " 'kunna',\n",
       " 'form',\n",
       " 'variera',\n",
       " 'vidfogad',\n",
       " 'ritning',\n",
       " 'visad',\n",
       " 'form',\n",
       " 'af',\n",
       " 'cylind',\n",
       " 'fig',\n",
       " 'af',\n",
       " 'jernplåt',\n",
       " 'invändig',\n",
       " 'infodra',\n",
       " 'eldfast',\n",
       " 'material',\n",
       " 'fäsa',\n",
       " 'sätt',\n",
       " 'fig',\n",
       " 'utvisa',\n",
       " 'bessemerugn',\n",
       " 'skorst',\n",
       " 'blåsning',\n",
       " 'fullbordad',\n",
       " 'fig',\n",
       " 'visa',\n",
       " 'läge',\n",
       " 'bessemerusn',\n",
       " 'slutad',\n",
       " 'blasning',\n",
       " 'böra',\n",
       " 'hafva',\n",
       " 'apparat',\n",
       " 'aptera',\n",
       " 'me',\n",
       " 'dels',\n",
       " 'åtdragning',\n",
       " 'af',\n",
       " 'tvenne',\n",
       " 'kila',\n",
       " 'stadig',\n",
       " 'fästa',\n",
       " 'densamwma',\n",
       " 'uttappning',\n",
       " 'formarnea',\n",
       " 'hvilken',\n",
       " 'ske',\n",
       " 'vanlig',\n",
       " 'sätt',\n",
       " 'medelst',\n",
       " 'häfstång',\n",
       " 'spe',\n",
       " 'hälle',\n",
       " 'ugn',\n",
       " 'läge',\n",
       " 'fig',\n",
       " 'utvisa',\n",
       " 'metall',\n",
       " 'befinna',\n",
       " 'siv',\n",
       " 'delvis',\n",
       " 'konvert',\n",
       " 'skänk',\n",
       " 'stor',\n",
       " 'del',\n",
       " 'qva',\n",
       " 'ugn',\n",
       " 'forma',\n",
       " 'hvilka',\n",
       " 'metall',\n",
       " 'skola',\n",
       " 'gjuta',\n",
       " 'stå',\n",
       " 'un',\n",
       " 'der',\n",
       " 'skänk',\n",
       " 'flere',\n",
       " 'vagna',\n",
       " 'ock',\n",
       " 'vridbar',\n",
       " 'bord',\n",
       " 'gjutform',\n",
       " 'full',\n",
       " 'lätthet',\n",
       " 'kunna',\n",
       " 'undanskaffas',\n",
       " 'annan',\n",
       " 'placera',\n",
       " 'ställe',\n",
       " 'stor',\n",
       " 'fördel',\n",
       " 'appara',\n",
       " 'an',\n",
       " 'vändande',\n",
       " 'medföra',\n",
       " 'bestå',\n",
       " 'hufvudsaklig',\n",
       " 'deruti',\n",
       " 'bessemermetall',\n",
       " 'inkomm',\n",
       " 'hög',\n",
       " 'möjlig',\n",
       " 'värmegrad',\n",
       " 'uti',\n",
       " 'formarne',\n",
       " 'genom',\n",
       " 'vanlig',\n",
       " 'sätt',\n",
       " 'metall',\n",
       " 'tömning',\n",
       " 'uti',\n",
       " 'mått',\n",
       " 'lig',\n",
       " 'uppvärmd',\n",
       " 'stor',\n",
       " 'skänk',\n",
       " 'förhyttning',\n",
       " 'gjutformarn',\n",
       " 'metall',\n",
       " 'slutlig',\n",
       " 'uttapp',\n",
       " 'ning',\n",
       " 'uppstå',\n",
       " 'nemligen',\n",
       " 'stor',\n",
       " 'värmeförlust',\n",
       " 'hvilken',\n",
       " 'temperatur',\n",
       " 'förut',\n",
       " 'härtill',\n",
       " 'räcklig',\n",
       " 'hög',\n",
       " 'ofta',\n",
       " 'förorsaka',\n",
       " 'metall',\n",
       " 'urtappning',\n",
       " 'synnerhet',\n",
       " 'sista',\n",
       " 'formarnea',\n",
       " 'afsvalna',\n",
       " 'full',\n",
       " 'qvickflyta',\n",
       " 'hvarigenom',\n",
       " 'erhålla',\n",
       " 'blåsig',\n",
       " 'göt',\n",
       " 'hvarjemte',\n",
       " 'del',\n",
       " 'flyta',\n",
       " 'metall',\n",
       " 'qvarblifva',\n",
       " 'skänk',\n",
       " 'form',\n",
       " 'af',\n",
       " 'skrot',\n",
       " 'undvike',\n",
       " 'svenom',\n",
       " 'anordning',\n",
       " 'stor',\n",
       " 'del',\n",
       " 'af',\n",
       " 'metall',\n",
       " 'få',\n",
       " 'nemligen',\n",
       " 'tappning',\n",
       " 'formarne',\n",
       " 'försiggå',\n",
       " 'qvarblifva',\n",
       " 'uti',\n",
       " 'hög',\n",
       " 'grad',\n",
       " 'uppvärmda',\n",
       " 'bessemerugn',\n",
       " 'kunna',\n",
       " 'derigenom',\n",
       " 'hibehåll',\n",
       " 'hög',\n",
       " 'tempe',\n",
       " 'ratur',\n",
       " 'ända',\n",
       " 'slut',\n",
       " 'följd',\n",
       " 'deraf',\n",
       " 'äfv',\n",
       " 'medgifva',\n",
       " 'långsamm',\n",
       " 'utgjutning',\n",
       " 'lite',\n",
       " 'forma',\n",
       " 'önska',\n",
       " 'slagg',\n",
       " 'kunna',\n",
       " 'användning',\n",
       " 'af',\n",
       " 'denua',\n",
       " 'appa',\n",
       " 'rat',\n",
       " 'medfölja',\n",
       " 'metall',\n",
       " 'eftersom',\n",
       " 'tappning',\n",
       " 'ske',\n",
       " 'öfva',\n",
       " 'läpp',\n",
       " 'genom',\n",
       " 'bott',\n",
       " 'patentanspråk',\n",
       " 'gjutskänk',\n",
       " 'utom',\n",
       " 'vanlig',\n",
       " 'bottenöppning',\n",
       " 'metall',\n",
       " 'aftappning',\n",
       " 'vanlig',\n",
       " 'sätt',\n",
       " 'äfv',\n",
       " 'konvertermyn',\n",
       " 'ning',\n",
       " 'passande',\n",
       " 'öppning',\n",
       " 'sida',\n",
       " 'sedd',\n",
       " 'lämplig',\n",
       " 'anordning',\n",
       " 'fästande',\n",
       " 'konverter',\n",
       " 'mynning',\n",
       " 'tillverkning',\n",
       " 'af',\n",
       " 'bessemermetall',\n",
       " 'sätt',\n",
       " 'föregående',\n",
       " 'patentanspråk',\n",
       " 'Beskrifna',\n",
       " 'konverterskänk',\n",
       " 'frånskilja',\n",
       " 'af',\n",
       " 'slagg',\n",
       " 'aftappa',\n",
       " 'metall',\n",
       " 'ritning',\n",
       " 'stockholm',\n",
       " 'kongägl',\n",
       " 'boktryckerium',\n",
       " 'offentliggjord',\n",
       " 'oktober',\n",
       " 'fig',\n",
       " 'tatt',\n",
       " 'elli',\n",
       " 'eaiimiessiadliissinpradsiadi',\n",
       " 'psa',\n",
       " 'pp',\n",
       " 'nn',\n",
       " 'vn',\n",
       " 'rs',\n",
       " 'nn',\n",
       " 'nn',\n",
       " 'se',\n",
       " 'patent',\n",
       " 'lig']"
      ]
     },
     "execution_count": 10,
     "metadata": {},
     "output_type": "execute_result"
    }
   ],
   "source": [
    "PATENT_MAPPING[\"1000\"][\"text\"]"
   ]
  },
  {
   "cell_type": "markdown",
   "metadata": {},
   "source": [
    "**generate_tf_mapping** computes tf scores for all terms in patents in a given time range. This is highly memory expensive, but speeds up later calculations."
   ]
  },
  {
   "cell_type": "code",
   "execution_count": 11,
   "metadata": {},
   "outputs": [],
   "source": [
    "TF_MAPPING = generate_tf_mapping(start_date=1885, end_date=1900)"
   ]
  },
  {
   "cell_type": "code",
   "execution_count": 16,
   "metadata": {},
   "outputs": [
    {
     "data": {
      "text/plain": [
       "0.0019157088122605363"
      ]
     },
     "execution_count": 16,
     "metadata": {},
     "output_type": "execute_result"
    }
   ],
   "source": [
    "TF_MAPPING[\"10000\"][\"stockholm\"]"
   ]
  },
  {
   "cell_type": "markdown",
   "metadata": {},
   "source": [
    "**calculate_term_frequencies_per_patent** is calculated to speed up the computationally expensive bidf calculation.\n",
    "\n",
    "$$\n",
    "    BIDF_{w, p} = \\log \\left( \\frac{\\# \\text{ patents prior to } p}{1 + \\# \\text{ documents prior to } p \\text{ that include term } w} \\right)\n",
    "$$\n",
    "\n",
    "For every patent $p$, it keeps track of the $\\# \\text{ of documents prior to } p$ and the $\\# \\text{ documents prior to } p \\text{ that include term } w$. \n",
    "\n",
    "While keeping track of the number of documents prior to $p$ does not require much memory, keeping track of the number of occurances of each term until a certain patent does! Here is how it is done: From a given *total_start_year* (1885 in our case) until *start_year*, a dictionary *global_term_count* stores the number of patents each term occurs in. This can be seen as a pre-computation.\n",
    "From *start_year* to *end_year* (and this is the memory intensive part), for each patent id and each term that has occured so far, the number of documents that contain each term is stored. This is a trade-off between memory costs and computational costs, which in return heavily reduces the runtime of the algorithm."
   ]
  },
  {
   "cell_type": "code",
   "execution_count": null,
   "metadata": {},
   "outputs": [],
   "source": [
    "TERM_COUNT_PER_PATENT = calculate_term_frequencies_per_patent(1885, 1885, 1900)"
   ]
  },
  {
   "cell_type": "code",
   "execution_count": 22,
   "metadata": {},
   "outputs": [
    {
     "data": {
      "text/plain": [
       "8569"
      ]
     },
     "execution_count": 22,
     "metadata": {},
     "output_type": "execute_result"
    }
   ],
   "source": [
    "TERM_COUNT_PER_PATENT[\"10000\"][\"num_prior_patents\"]"
   ]
  },
  {
   "cell_type": "code",
   "execution_count": 40,
   "metadata": {},
   "outputs": [
    {
     "data": {
      "text/plain": [
       "[('väfs', 2),\n",
       " ('oljor', 78),\n",
       " ('hvarefta', 376),\n",
       " ('behandling', 488),\n",
       " ('patentanspråk', 8435),\n",
       " ('skodon', 62),\n",
       " ('fernissa', 51),\n",
       " ('ottentliggjord', 16),\n",
       " ('torka', 528),\n",
       " ('läd', 212),\n",
       " ('bereda', 243),\n",
       " ('olja', 333),\n",
       " ('retziusekvall', 2),\n",
       " ('sätt', 6425),\n",
       " ('använda', 4498),\n",
       " ('andsifna', 2),\n",
       " ('hvarje', 2572),\n",
       " ('patentbyrån', 5496),\n",
       " ('stockholm', 7703),\n",
       " ('kongl', 5600)]"
      ]
     },
     "execution_count": 40,
     "metadata": {},
     "output_type": "execute_result"
    }
   ],
   "source": [
    "list(TERM_COUNT_PER_PATENT[\"10000\"][\"counts\"].items())[:20]"
   ]
  },
  {
   "cell_type": "markdown",
   "metadata": {},
   "source": [
    "### Term Frequency"
   ]
  },
  {
   "cell_type": "code",
   "execution_count": 24,
   "metadata": {},
   "outputs": [
    {
     "data": {
      "text/plain": [
       "0.007662835249042145"
      ]
     },
     "execution_count": 24,
     "metadata": {},
     "output_type": "execute_result"
    }
   ],
   "source": [
    "patent_id = \"10000\"\n",
    "term = \"patent\"\n",
    "calculate_tf(patent_id, term)"
   ]
  },
  {
   "cell_type": "code",
   "execution_count": 25,
   "metadata": {},
   "outputs": [
    {
     "data": {
      "text/plain": [
       "0"
      ]
     },
     "execution_count": 25,
     "metadata": {},
     "output_type": "execute_result"
    }
   ],
   "source": [
    "patent_id = \"10000\"\n",
    "term = \"thisistrash\"\n",
    "calculate_tf(patent_id, term)"
   ]
  },
  {
   "cell_type": "markdown",
   "metadata": {},
   "source": [
    "### Backward Inverse Document Frequency (BIDF)"
   ]
  },
  {
   "cell_type": "code",
   "execution_count": 26,
   "metadata": {},
   "outputs": [
    {
     "data": {
      "text/plain": [
       "0.00011670654153411112"
      ]
     },
     "execution_count": 26,
     "metadata": {},
     "output_type": "execute_result"
    }
   ],
   "source": [
    "earlier_patent_id = \"10000\"\n",
    "term = \"patent\"\n",
    "calculate_bidf(term, earlier_patent_id)"
   ]
  },
  {
   "cell_type": "markdown",
   "metadata": {},
   "source": [
    "### Patent Similarity"
   ]
  },
  {
   "cell_type": "markdown",
   "metadata": {},
   "source": [
    "calculation according to the formula above"
   ]
  },
  {
   "cell_type": "code",
   "execution_count": 30,
   "metadata": {},
   "outputs": [
    {
     "data": {
      "text/plain": [
       "1.0000000000000002"
      ]
     },
     "execution_count": 30,
     "metadata": {},
     "output_type": "execute_result"
    }
   ],
   "source": [
    "patent_id_i = \"10000\"\n",
    "patent_id_j = \"10000\"\n",
    "calculate_patent_similarity(patent_id_i, patent_id_j)"
   ]
  },
  {
   "cell_type": "code",
   "execution_count": 32,
   "metadata": {},
   "outputs": [
    {
     "data": {
      "text/plain": [
       "0.011435583355308634"
      ]
     },
     "execution_count": 32,
     "metadata": {},
     "output_type": "execute_result"
    }
   ],
   "source": [
    "patent_id_i = \"10000\"\n",
    "patent_id_j = \"11000\"\n",
    "calculate_patent_similarity(patent_id_i, patent_id_j)"
   ]
  },
  {
   "cell_type": "markdown",
   "metadata": {},
   "source": [
    "### Backward Similarity"
   ]
  },
  {
   "cell_type": "code",
   "execution_count": 33,
   "metadata": {},
   "outputs": [
    {
     "name": "stdout",
     "output_type": "stream",
     "text": [
      "backward similarity for patent 10000: 0.022385680427972097\n"
     ]
    },
    {
     "data": {
      "text/plain": [
       "0.022385680427972097"
      ]
     },
     "execution_count": 33,
     "metadata": {},
     "output_type": "execute_result"
    }
   ],
   "source": [
    "patent_id = \"10000\"\n",
    "calculate_backward_similarity(patent_id, backward_years=5)"
   ]
  },
  {
   "cell_type": "markdown",
   "metadata": {},
   "source": [
    "### Forward Similarity"
   ]
  },
  {
   "cell_type": "code",
   "execution_count": 34,
   "metadata": {},
   "outputs": [
    {
     "name": "stdout",
     "output_type": "stream",
     "text": [
      "forward similarity for patent 10000: 0.02317778213777927\n"
     ]
    },
    {
     "data": {
      "text/plain": [
       "0.02317778213777927"
      ]
     },
     "execution_count": 34,
     "metadata": {},
     "output_type": "execute_result"
    }
   ],
   "source": [
    "calculate_forward_similarity(patent_id, forward_years=10)"
   ]
  },
  {
   "cell_type": "markdown",
   "metadata": {},
   "source": [
    "### Patent Importance"
   ]
  },
  {
   "cell_type": "code",
   "execution_count": 36,
   "metadata": {},
   "outputs": [
    {
     "name": "stdout",
     "output_type": "stream",
     "text": [
      "backward similarity for patent 10000: 0.022385680427972097\n",
      "forward similarity for patent 10000: 0.02317778213777927\n",
      "novelty: 0.022385680427972097, impact: 0.02317778213777927, importance: 1.0353843034772086\n"
     ]
    }
   ],
   "source": [
    "novelty, impact, importance = calculate_patent_importance(patent_id, backward_years=5, forward_years=10)\n",
    "print(f\"novelty: {novelty}, impact: {impact}, importance: {importance}\")"
   ]
  },
  {
   "cell_type": "code",
   "execution_count": 37,
   "metadata": {},
   "outputs": [
    {
     "data": {
      "text/plain": [
       "array(['smergelskifvan', 'slipningskon', 'kon', 'slipskifvan',\n",
       "       'slipningsskifva', 'smergel', 'slipningsrumm', 'slipningsorga',\n",
       "       'gjutstålskula', 'slipningsrum'], dtype='<U18')"
      ]
     },
     "execution_count": 37,
     "metadata": {},
     "output_type": "execute_result"
    }
   ],
   "source": [
    "# also get an array of the *10* terms in this patent with highest tfibdf score\n",
    "top_tfbidf_terms_ls = get_top_n_tfbidf_scores(patent_id, n=10)\n",
    "top_tfbidf_terms_ls"
   ]
  },
  {
   "cell_type": "markdown",
   "metadata": {},
   "source": [
    "These calculations are repeated for a given range of patents. Results are stored in a pandas dataframe."
   ]
  }
 ],
 "metadata": {
  "kernelspec": {
   "display_name": "venv_novelty",
   "language": "python",
   "name": "python3"
  },
  "language_info": {
   "codemirror_mode": {
    "name": "ipython",
    "version": 3
   },
   "file_extension": ".py",
   "mimetype": "text/x-python",
   "name": "python",
   "nbconvert_exporter": "python",
   "pygments_lexer": "ipython3",
   "version": "3.10.12"
  }
 },
 "nbformat": 4,
 "nbformat_minor": 2
}
