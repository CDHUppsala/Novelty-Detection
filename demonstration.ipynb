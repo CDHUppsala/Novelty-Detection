{
 "cells": [
  {
   "cell_type": "markdown",
   "metadata": {},
   "source": [
    "# Patent Impact Calculation according to Kelly et al. (2021)"
   ]
  },
  {
   "cell_type": "markdown",
   "metadata": {},
   "source": [
    "- **Novel** patents are distinct from their predecessors\n",
    "\n",
    "- **Impactful** patents influence future scientific advances, manifested as high similarity with subsequent innovations/patents\n",
    "\n",
    "- An **important** patent is both novel **and** impactful\n",
    "\n",
    "-> An **important** patent is **dissimilar** to previous patents and **similar** to future patents"
   ]
  },
  {
   "cell_type": "markdown",
   "metadata": {},
   "source": [
    "### Novelty: \n",
    "\n",
    "Novel patents should be distinct from earlier patents, i.e., a patent is novel if its similarity to prior patents is low. The authors suggest to measure novelty by calculating the Backward Similarity (BS), which is the cumulative similarity between a focal patent $p$ and all patents filed $5$ years prior to $p$. \n",
    "A novel patent should have a low BS score, as it is dissimilar to previous patents. \n",
    "\n",
    "Kelly et al. calculate the BS the following:\n",
    "$$\n",
    "BS_{j}^{\\tau} = \\sum_{i \\in \\mathcal{B}_{j, \\tau}} p_{j, i}\n",
    "$$\n",
    "where $\\mathcal{B}{j, \\tau}$ denotes a set of prior patents filed $\\tau = 5$ years before patent $j$."
   ]
  },
  {
   "cell_type": "markdown",
   "metadata": {},
   "source": [
    "### Impact\n",
    "\n",
    "Impactful patents should be similar to future patents, i.e., a patent is impactful if its similarity to future patents is high. This is calculated as the Forward Simiarlity (FS), which is the cumulative similarity between a focal patent $p$ and all patents filed $10$ years after $p$.\n",
    "\n",
    "FS is calculated the following:\n",
    "\n",
    "$$\n",
    "FS_{j}^{\\tau} = \\sum_{i \\in \\mathcal{F}_{j, \\tau}} p_{j, i}\n",
    "$$\n",
    "\n",
    "where $\\mathcal{F}{j, \\tau}$ denotes the set of patents filed $\\tau = 10$ years after patent $j$. "
   ]
  },
  {
   "cell_type": "markdown",
   "metadata": {},
   "source": [
    "### Importance\n",
    "An important patent should be novel and impactful, i.e., the BS score should be low and the FS score should be high. This can be expressed by taking the ratio between BS and FS:\n",
    "\n",
    "$$\n",
    "q_{j}^{\\tau} = \\frac{FS_{j}^{\\tau}}{BS_{j}^{\\tau}}\n",
    "$$\n",
    "\n",
    "The value will be high if BS is low and FS is high."
   ]
  },
  {
   "cell_type": "markdown",
   "metadata": {},
   "source": [
    "**And here is the issue**: \n",
    "\n",
    "The number of patents in the sets $\\mathcal{B}_{j, \\tau}$ and $\\mathcal{F}_{j, \\tau}$ varies for each patent. For a patent $p$ the number of patents in $\\mathcal{B}{j, \\tau}$ or $\\mathcal{F}_{j, \\tau}$ may be high, which leads to a high BS or FS (or vice versa), even though each individual similarity between $p$ and all other patents in these sets is low. Therefore, the number of patents in each set heavily influences the BS and FS scores, which in return determines the importance score. On the other hand, the actual individual similarity scores used to calculate FS and BS do not influence the importance scores as they are supposed to. "
   ]
  },
  {
   "cell_type": "markdown",
   "metadata": {},
   "source": [
    "### Solution:\n",
    "\n",
    "An easy way to prevent this from happening, is to normalize the FS and BS scores by the length of the sets $\\mathcal{B}{j, \\tau}$ and $\\mathcal{F}{j, \\tau}$, i.e., the number of patents $\\tau = 5$ years before and $\\tau = 10$ years after the focal patent. This corresponds to taking the average. The resulting formulas are the following:\n",
    "\n",
    "\n",
    "$$\n",
    "BS_{j}^{\\tau} = \\frac{1}{| \\mathcal{B}_{j, \\tau} |} \\cdot \\sum_{i \\in \\mathcal{B}_{j, \\tau}} p_{j, i}\n",
    "$$\n",
    "\n",
    "and\n",
    "\n",
    "$$\n",
    "FS_{j}^{\\tau} = \\frac{1}{| \\mathcal{F}_{j, \\tau} |} \\cdot \\sum_{i \\in \\mathcal{F}_{j, \\tau}} p_{j, i}\n",
    "$$\n",
    "\n",
    "That way, the importance scores between patents are comparable and the actual similarity scores between patents influence the importance value of a patent. "
   ]
  },
  {
   "cell_type": "markdown",
   "metadata": {},
   "source": [
    "### Patent Similarity\n",
    "The patent similarity is calculated based on the TFIBDF score. \n",
    "for a patent $p$ and a term $w$, the TFBIDF score is calculated the following:\n",
    "$$\n",
    "    TFBIDF_{w, p} = TF_{w, p} \\cdot BIDF_{w}\n",
    "$$\n",
    "where \n",
    "$$\n",
    "    TF_{w, p} = \\frac{c_{p,w}}{\\sum_{k}{}c_{p,k}}\n",
    "$$\n",
    "and\n",
    "$$\n",
    "    BIDF_{w, p} = \\log \\left( \\frac{\\# \\text{ patents prior to } p}{1 + \\# \\text{ documents prior to } p \\text{ that include term } w} \\right)\n",
    "$$"
   ]
  },
  {
   "cell_type": "markdown",
   "metadata": {},
   "source": [
    "To calculate the similarity $p_{i, j}$ between patent $i$ and $j$, create two vectors $V_i$ and $V_j$ with the size of the union of terms in patents $i$ and $j$. In this vectors, store the TFBIDF scores for each term $w$ in $i$ and $j$ respectively. Finally, normalize the vectors and calculate the cosine similarity between the two vectors. \n",
    "\n",
    "$$\n",
    "    p_{i, j} = V_{i} \\cdot V_{j}\n",
    "$$"
   ]
  }
 ],
 "metadata": {
  "kernelspec": {
   "display_name": "venv_novelty",
   "language": "python",
   "name": "python3"
  },
  "language_info": {
   "codemirror_mode": {
    "name": "ipython",
    "version": 3
   },
   "file_extension": ".py",
   "mimetype": "text/x-python",
   "name": "python",
   "nbconvert_exporter": "python",
   "pygments_lexer": "ipython3",
   "version": "3.9.6"
  }
 },
 "nbformat": 4,
 "nbformat_minor": 2
}
